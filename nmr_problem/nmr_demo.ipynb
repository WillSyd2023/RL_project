{
 "cells": [
  {
   "cell_type": "code",
   "execution_count": 1,
   "id": "c782d8d8-905f-4943-8937-33cd7e884994",
   "metadata": {},
   "outputs": [],
   "source": [
    "import sys\n",
    "import os\n",
    "sys.path.append(os.path.abspath('..'))\n",
    "from rl_policy_eval.rl_policy_eval import PolicyEvalQL\n",
    "from rl_agent.ql_agent import QLAgent\n",
    "from nmr_problem.nmr_mab_env import NonMarkovMABEnv\n",
    "from nmr_problem.rewards import m_reward_1, m_reward_4, nm_reward_1, nm_reward_4"
   ]
  },
  {
   "cell_type": "code",
   "execution_count": null,
   "id": "50ae24f2-3151-4c01-b85d-598f5259058e",
   "metadata": {},
   "outputs": [],
   "source": [
    "policy = PolicyEvalQL(\n",
    "    agent=QLAgent(env=NonMarkovMABEnv(rewards=[m_reward_1])),\n",
    "    initial_epsilon=1.0,\n",
    "    epsilon_decay=0.00005,\n",
    "    final_epsilon=0.1,\n",
    ")\n",
    "\n",
    "policy.trials(\n",
    "    steps_measure = 20000,\n",
    "    num_measure = 50,\n",
    "    time_limit = 1000,\n",
    "    n_eps = 10,\n",
    ")\n",
    "\n",
    "policy.visualise(save=\"nmr_markov\", title=\"Markovian Reward\")"
   ]
  },
  {
   "cell_type": "code",
   "execution_count": null,
   "id": "f01dd01d-cbc8-4e37-9e29-552c638eab34",
   "metadata": {},
   "outputs": [],
   "source": [
    "policy = PolicyEvalQL(agent=QLAgent(env=NonMarkovMABEnv(rewards=[nm_reward_1, nm_reward_4])))\n",
    "\n",
    "policy.trials(\n",
    "    steps_measure = 20000,\n",
    "    num_measure = 50,\n",
    "    time_limit = 1000,\n",
    "    n_eps = 10,\n",
    ")\n",
    "\n",
    "policy.visualise(save=\"nmr_nonmarkov\", title=\"Non-Markovian Reward\")"
   ]
  },
  {
   "cell_type": "code",
   "execution_count": null,
   "id": "a69c92a7-77cc-4b05-b166-60a09d9950da",
   "metadata": {},
   "outputs": [],
   "source": []
  }
 ],
 "metadata": {
  "kernelspec": {
   "display_name": "Python 3 (ipykernel)",
   "language": "python",
   "name": "python3"
  },
  "language_info": {
   "codemirror_mode": {
    "name": "ipython",
    "version": 3
   },
   "file_extension": ".py",
   "mimetype": "text/x-python",
   "name": "python",
   "nbconvert_exporter": "python",
   "pygments_lexer": "ipython3",
   "version": "3.12.4"
  }
 },
 "nbformat": 4,
 "nbformat_minor": 5
}
