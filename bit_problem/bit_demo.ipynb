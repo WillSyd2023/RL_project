{
 "cells": [
  {
   "cell_type": "code",
   "execution_count": 1,
   "id": "f03e671b-bc3e-4864-a94c-74288be6cd4d",
   "metadata": {},
   "outputs": [],
   "source": [
    "import sys\n",
    "import os\n",
    "sys.path.append(os.path.abspath('..'))\n",
    "from rl_policy_eval.rl_policy_eval import PolicyEvalQL\n",
    "from rl_agent.ql_agent import QLAgent\n",
    "from bit_problem.bit_env import BitEnv"
   ]
  },
  {
   "cell_type": "code",
   "execution_count": null,
   "id": "630d2bc1-b022-4aef-9d02-7451163aa06f",
   "metadata": {},
   "outputs": [],
   "source": [
    "policy = PolicyEvalQL(\n",
    "    agent=QLAgent(env=BitEnv(p=0.6)),\n",
    "    test_env=BitEnv(p=0.4))\n",
    "\n",
    "policy.trials(\n",
    "    steps_measure = 20000,\n",
    "    num_measure = 50,\n",
    "    time_limit = 1000,\n",
    "    n_eps = 10,\n",
    ")\n",
    "\n",
    "policy.visualise(save=\"basic_bit\", title=\"Basic Bit/Coin Environments\")"
   ]
  },
  {
   "cell_type": "code",
   "execution_count": null,
   "id": "e7b79eba-8e2f-474c-9dc5-40ea556338bc",
   "metadata": {},
   "outputs": [],
   "source": [
    "policy = PolicyEvalQL(\n",
    "    agent=QLAgent(env=BitEnv(p=1)),\n",
    "    test_env=BitEnv(p=1))\n",
    "\n",
    "policy.trials(\n",
    "    steps_measure = 20000,\n",
    "    num_measure = 50,\n",
    "    time_limit = 1000,\n",
    "    n_eps = 10,\n",
    ")\n",
    "\n",
    "policy.visualise(save=\"same_bit\", title=\"Always Heads\")"
   ]
  },
  {
   "cell_type": "code",
   "execution_count": null,
   "id": "9606d9df-aced-4610-9c39-d2a3750fb215",
   "metadata": {},
   "outputs": [],
   "source": [
    "policy = PolicyEvalQL(\n",
    "    agent=QLAgent(env=BitEnv(p=0)),\n",
    "    test_env=BitEnv(p=0))\n",
    "\n",
    "policy.trials(\n",
    "    steps_measure = 20000,\n",
    "    num_measure = 50,\n",
    "    time_limit = 1000,\n",
    "    n_eps = 10,\n",
    ")\n",
    "\n",
    "policy.visualise(save=\"same_bit_2\", title=\"Always Tails\")"
   ]
  },
  {
   "cell_type": "code",
   "execution_count": null,
   "id": "bbc73841-07f9-499d-ae6a-2d248e6d5833",
   "metadata": {},
   "outputs": [],
   "source": [
    "policy = PolicyEvalQL(\n",
    "    agent=QLAgent(env=BitEnv(p=1)),\n",
    "    test_env=BitEnv(p=0))\n",
    "\n",
    "policy.trials(\n",
    "    steps_measure = 20000,\n",
    "    num_measure = 50,\n",
    "    time_limit = 1000,\n",
    "    n_eps = 10,\n",
    ")\n",
    "\n",
    "policy.visualise(save=\"different_bit\", title=\"Always Different\")"
   ]
  },
  {
   "cell_type": "code",
   "execution_count": null,
   "id": "226be133-e626-4cc2-9848-07d84b22fae8",
   "metadata": {},
   "outputs": [],
   "source": [
    "policy = PolicyEvalQL(\n",
    "    agent=QLAgent(env=BitEnv(p=0)),\n",
    "    test_env=BitEnv(p=1))\n",
    "\n",
    "policy.trials(\n",
    "    steps_measure = 20000,\n",
    "    num_measure = 50,\n",
    "    time_limit = 1000,\n",
    "    n_eps = 10,\n",
    ")\n",
    "\n",
    "policy.visualise(save=\"different_bit_2\", title=\"Always Different 2\")"
   ]
  },
  {
   "cell_type": "code",
   "execution_count": null,
   "id": "1b8bee4d-a246-499e-bb7a-9e3d7924a768",
   "metadata": {},
   "outputs": [],
   "source": []
  }
 ],
 "metadata": {
  "kernelspec": {
   "display_name": "Python 3 (ipykernel)",
   "language": "python",
   "name": "python3"
  },
  "language_info": {
   "codemirror_mode": {
    "name": "ipython",
    "version": 3
   },
   "file_extension": ".py",
   "mimetype": "text/x-python",
   "name": "python",
   "nbconvert_exporter": "python",
   "pygments_lexer": "ipython3",
   "version": "3.12.4"
  }
 },
 "nbformat": 4,
 "nbformat_minor": 5
}
