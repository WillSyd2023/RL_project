{
 "cells": [
  {
   "cell_type": "code",
   "execution_count": 1,
   "id": "cb55acdc-088b-4b3a-9fcc-108190e45569",
   "metadata": {},
   "outputs": [],
   "source": [
    "import sys\n",
    "import os\n",
    "sys.path.append(os.path.abspath('..'))\n",
    "from rl_policy_eval.rl_policy_eval import PolicyEvalQL\n",
    "from rl_agent.ql_agent import QLAgent\n",
    "from bit_problem.bit_env import BitEnv\n",
    "\n",
    "policy = PolicyEvalQL(agent=QLAgent(env=BitEnv(lambda x: 1/(x+1))))"
   ]
  },
  {
   "cell_type": "code",
   "execution_count": null,
   "id": "19c82f4d-e4a4-4dec-9fd2-309eac3f7ea4",
   "metadata": {},
   "outputs": [
    {
     "name": "stderr",
     "output_type": "stream",
     "text": [
      " 30%|█████████████▏                              | 3/10 [00:16<00:37,  5.33s/it]"
     ]
    }
   ],
   "source": [
    "policy.trials(\n",
    "    steps_measure = 20000,\n",
    "    num_measure = 50,\n",
    "    time_limit = 1000,\n",
    "    n_eps = 10,\n",
    ")"
   ]
  },
  {
   "cell_type": "code",
   "execution_count": null,
   "id": "97d0dd2f-541d-4dba-adfd-49e9ecafee05",
   "metadata": {},
   "outputs": [],
   "source": [
    "policy.visualise()"
   ]
  },
  {
   "cell_type": "code",
   "execution_count": null,
   "id": "8d847d41-7ad6-4ccf-a039-ee656ed8d908",
   "metadata": {},
   "outputs": [],
   "source": []
  }
 ],
 "metadata": {
  "kernelspec": {
   "display_name": "Python 3 (ipykernel)",
   "language": "python",
   "name": "python3"
  },
  "language_info": {
   "codemirror_mode": {
    "name": "ipython",
    "version": 3
   },
   "file_extension": ".py",
   "mimetype": "text/x-python",
   "name": "python",
   "nbconvert_exporter": "python",
   "pygments_lexer": "ipython3",
   "version": "3.12.4"
  }
 },
 "nbformat": 4,
 "nbformat_minor": 5
}
