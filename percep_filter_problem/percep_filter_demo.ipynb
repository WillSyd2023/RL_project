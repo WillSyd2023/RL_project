{
 "cells": [
  {
   "cell_type": "code",
   "execution_count": 1,
   "id": "6856f79a",
   "metadata": {},
   "outputs": [],
   "source": [
    "import sys\n",
    "import os\n",
    "sys.path.append(os.path.abspath('..'))\n",
    "from rl_policy_eval.rl_policy_eval import PolicyEvalQL\n",
    "from percep_filter_problem.percep_filter_ql_agent import PercepFilterQLAgent\n",
    "from percep_filter_problem.percep_filter import filter_complete"
   ]
  },
  {
   "cell_type": "code",
   "execution_count": null,
   "id": "7537b08e-cb21-4d83-a93d-bcb79bb3df54",
   "metadata": {
    "scrolled": true
   },
   "outputs": [],
   "source": [
    "policy = PolicyEvalQL(agent=PercepFilterQLAgent(obs_filter=filter_complete))\n",
    "\n",
    "policy.trials(\n",
    "    steps_measure = 2_000_000,\n",
    "    num_measure = 10,\n",
    "    time_limit = 1000,\n",
    "    n_eps = 10,\n",
    ")\n",
    "\n",
    "policy.visualise(save=\"complete_a_lot\", title=\"Complete Perception\", max_reward = 0)"
   ]
  },
  {
   "cell_type": "code",
   "execution_count": null,
   "id": "6c0ac4e5-a952-4bbe-8753-51a14fa3fa1d",
   "metadata": {},
   "outputs": [],
   "source": [
    "policy = PolicyEvalQL(agent=PercepFilterQLAgent())\n",
    "\n",
    "# policy.trials(\n",
    "#    steps_measure = 20000,\n",
    "#    num_measure = 50,\n",
    "#    time_limit = 1000,\n",
    "#    n_eps = 10,\n",
    "#)\n",
    "\n",
    "policy.trials(\n",
    "    steps_measure = 2_000_000,\n",
    "    num_measure = 10,\n",
    "    time_limit = 1000,\n",
    "    n_eps = 10,\n",
    ")\n",
    "\n",
    "policy.visualise(save=\"4_bit_a_lot\", title=\"4-bit Perception\", max_reward = 0)"
   ]
  },
  {
   "cell_type": "code",
   "execution_count": null,
   "id": "03e9bd73-ea70-4351-b86d-a5824a16f211",
   "metadata": {},
   "outputs": [],
   "source": []
  }
 ],
 "metadata": {
  "kernelspec": {
   "display_name": "Python 3 (ipykernel)",
   "language": "python",
   "name": "python3"
  },
  "language_info": {
   "codemirror_mode": {
    "name": "ipython",
    "version": 3
   },
   "file_extension": ".py",
   "mimetype": "text/x-python",
   "name": "python",
   "nbconvert_exporter": "python",
   "pygments_lexer": "ipython3",
   "version": "3.12.4"
  }
 },
 "nbformat": 4,
 "nbformat_minor": 5
}
