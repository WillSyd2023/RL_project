{
 "cells": [
  {
   "cell_type": "code",
   "execution_count": null,
   "id": "6856f79a",
   "metadata": {},
   "outputs": [],
   "source": [
    "import sys\n",
    "import os\n",
    "sys.path.append(os.path.abspath('..'))\n",
    "from rl_policy_eval.rl_policy_eval import PolicyEvalQL\n",
    "from percep_filter_problem.percep_filter_ql_agent import PercepFilterQLAgent\n",
    "from percep_filter_problem.percep_filter import filter_complete"
   ]
  },
  {
   "cell_type": "code",
   "execution_count": null,
   "id": "7537b08e-cb21-4d83-a93d-bcb79bb3df54",
   "metadata": {
    "scrolled": true
   },
   "outputs": [],
   "source": [
    "policy = PolicyEvalQL(agent=PercepFilterQLAgent(obs_filter=filter_complete))\n",
    "\n",
    "policy.trials(\n",
    "    steps_measure = 20000,\n",
    "    num_measure = 50,\n",
    "    time_limit = 1000,\n",
    "    n_eps = 10,\n",
    ")\n",
    "\n",
    "policy.visualise(save=\"percep_complete\", title=\"Complete Perception\")"
   ]
  },
  {
   "cell_type": "code",
   "execution_count": null,
   "id": "6c0ac4e5-a952-4bbe-8753-51a14fa3fa1d",
   "metadata": {},
   "outputs": [],
   "source": [
    "policy = PolicyEvalQL(agent=PercepFilterQLAgent())\n",
    "\n",
    "policy.trials(\n",
    "    steps_measure = 20000,\n",
    "    num_measure = 50,\n",
    "    time_limit = 1000,\n",
    "    n_eps = 10,\n",
    ")\n",
    "\n",
    "policy.visualise()\n",
    "policy.visualise(save=\"4_bit_complete\", title=\"4-bit Perception\")"
   ]
  }
 ],
 "metadata": {
  "kernelspec": {
   "display_name": "Python 3 (ipykernel)",
   "language": "python",
   "name": "python3"
  },
  "language_info": {
   "codemirror_mode": {
    "name": "ipython",
    "version": 3
   },
   "file_extension": ".py",
   "mimetype": "text/x-python",
   "name": "python",
   "nbconvert_exporter": "python",
   "pygments_lexer": "ipython3",
   "version": "3.12.4"
  }
 },
 "nbformat": 4,
 "nbformat_minor": 5
}
